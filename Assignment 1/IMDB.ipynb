{
 "cells": [
  {
   "cell_type": "markdown",
   "metadata": {},
   "source": [
    "# Imports "
   ]
  },
  {
   "cell_type": "code",
   "execution_count": 1,
   "metadata": {},
   "outputs": [
    {
     "name": "stderr",
     "output_type": "stream",
     "text": [
      "┌ Warning: Pkg.installed() is deprecated\n",
      "└ @ Pkg /Users/julia/buildbot/worker/package_macos64/build/usr/share/julia/stdlib/v1.5/Pkg/src/Pkg.jl:554\n",
      "┌ Warning: Pkg.installed() is deprecated\n",
      "└ @ Pkg /Users/julia/buildbot/worker/package_macos64/build/usr/share/julia/stdlib/v1.5/Pkg/src/Pkg.jl:554\n",
      "┌ Warning: Pkg.installed() is deprecated\n",
      "└ @ Pkg /Users/julia/buildbot/worker/package_macos64/build/usr/share/julia/stdlib/v1.5/Pkg/src/Pkg.jl:554\n"
     ]
    },
    {
     "data": {
      "text/plain": [
       "true"
      ]
     },
     "execution_count": 1,
     "metadata": {},
     "output_type": "execute_result"
    }
   ],
   "source": [
    "using Pkg\n",
    "haskey(Pkg.installed(), \"ProgressBars\") || Pkg.add(\"ProgressBars\")\n",
    "haskey(Pkg.installed(), \"Languages\") || Pkg.add(\"Languages\")\n",
    "haskey(Pkg.installed(), \"RecursiveArrayTools\") || Pkg.add(\"RecursiveArrayTools\")"
   ]
  },
  {
   "cell_type": "code",
   "execution_count": 2,
   "metadata": {},
   "outputs": [],
   "source": [
    "using Languages, RecursiveArrayTools\n",
    "using Random: shuffle!"
   ]
  },
  {
   "cell_type": "markdown",
   "metadata": {},
   "source": [
    "# Utils"
   ]
  },
  {
   "cell_type": "code",
   "execution_count": 3,
   "metadata": {},
   "outputs": [],
   "source": [
    "function load(data_path::String)\n",
    "    reviews = [] # tuples of rating and review\n",
    "    for file in readdir(data_path)\n",
    "        if endswith(file, \".txt\")\n",
    "            file_path = joinpath(data_path, file)\n",
    "            rating = (split(split(file, \"_\")[2], \".\")[1])\n",
    "            rating = parse(Int, rating)\n",
    "            f  = open(file_path, \"r\")\n",
    "            comment = read(f, String)\n",
    "            push!(reviews, [rating < 5 ? 1 : 2, split(comment, \" \")])\n",
    "            close(f)\n",
    "        end\n",
    "    end\n",
    "    return reviews\n",
    "end\n",
    "\n",
    "w2i!(x) = get!(wdict, x, length(wdict)+1)\n",
    "w2i(x) = get(wdict, x, wdict[\"UNK\"])\n",
    "\n",
    "struct NaiveBayes; prior; cnt; ngram; eps; end"
   ]
  },
  {
   "cell_type": "markdown",
   "metadata": {},
   "source": [
    "# Pre-porcessing"
   ]
  },
  {
   "cell_type": "code",
   "execution_count": 4,
   "metadata": {},
   "outputs": [
    {
     "data": {
      "text/plain": [
       "remove_stop_words! (generic function with 1 method)"
      ]
     },
     "execution_count": 4,
     "metadata": {},
     "output_type": "execute_result"
    }
   ],
   "source": [
    "function remove_stop_words!(review)\n",
    "    review = review[(x -> (x ∉ _stopwords) && (x ∉ puncs)).(review)]\n",
    "    return review\n",
    "end"
   ]
  },
  {
   "cell_type": "code",
   "execution_count": 5,
   "metadata": {},
   "outputs": [
    {
     "data": {
      "text/plain": [
       "clean_words! (generic function with 1 method)"
      ]
     },
     "execution_count": 5,
     "metadata": {},
     "output_type": "execute_result"
    }
   ],
   "source": [
    "function clean_words!(lst)\n",
    "    for review in lst\n",
    "        review[2] = review[2] |> remove_stop_words! |> (x -> lowercase.(x)) |> (x -> replace.(x, r\"[^a-zA-Z\\s-]\" => \"\"))\n",
    "    end\n",
    "end"
   ]
  },
  {
   "cell_type": "code",
   "execution_count": 6,
   "metadata": {},
   "outputs": [
    {
     "data": {
      "text/plain": [
       "count_words (generic function with 1 method)"
      ]
     },
     "execution_count": 6,
     "metadata": {},
     "output_type": "execute_result"
    }
   ],
   "source": [
    "function count_words(lst)\n",
    "    wcnt = Dict()\n",
    "    for review in lst\n",
    "        (x -> wcnt[x] = get(wcnt, x, 0) + 1).(review[2])\n",
    "    end\n",
    "    return wcnt\n",
    "end"
   ]
  },
  {
   "cell_type": "code",
   "execution_count": 7,
   "metadata": {},
   "outputs": [
    {
     "data": {
      "text/plain": [
       "convert_to_UNK! (generic function with 1 method)"
      ]
     },
     "execution_count": 7,
     "metadata": {},
     "output_type": "execute_result"
    }
   ],
   "source": [
    "function convert_to_UNK!(lst)\n",
    "# convert all less frequent words to UNK then to integer\n",
    "    wcnt = count_words(dtrn)\n",
    "    for review in lst\n",
    "        review[2] = (x -> if get(wcnt, x, 0) < UNK_THRESHOLD; \"UNK\" ; else; x end).(review[2])\n",
    "    end\n",
    "end"
   ]
  },
  {
   "cell_type": "code",
   "execution_count": 8,
   "metadata": {},
   "outputs": [
    {
     "data": {
      "text/plain": [
       "hash (generic function with 1 method)"
      ]
     },
     "execution_count": 8,
     "metadata": {},
     "output_type": "execute_result"
    }
   ],
   "source": [
    "# hash n consecutive words\n",
    "hash(x) = ((i, x) -> (x * length(wcnt) ^ (i-1)) % 1e9).(1:length(x), reverse(x)) |> sum"
   ]
  },
  {
   "cell_type": "code",
   "execution_count": 9,
   "metadata": {},
   "outputs": [
    {
     "data": {
      "text/plain": [
       "cnt_n_grams (generic function with 1 method)"
      ]
     },
     "execution_count": 9,
     "metadata": {},
     "output_type": "execute_result"
    }
   ],
   "source": [
    "function cnt_n_grams(lst, ngram)\n",
    "    # count the words according to review\n",
    "    tmp = []\n",
    "    cnt = [Dict() for i in 1:2]\n",
    "    for review in lst\n",
    "        for word in review[2]\n",
    "            length(tmp) >= ngram && deleteat!(tmp, 1)\n",
    "            push!(tmp, word)\n",
    "            for j in reverse(1:length(tmp))\n",
    "                val = join(tmp[j:length(tmp)], \"-\")\n",
    "                cnt[review[1]][val] = get(cnt[review[1]], val, 0) + 1\n",
    "            end\n",
    "        end\n",
    "    end\n",
    "    return cnt\n",
    "end"
   ]
  },
  {
   "cell_type": "code",
   "execution_count": 54,
   "metadata": {},
   "outputs": [
    {
     "data": {
      "text/plain": [
       "predict (generic function with 1 method)"
      ]
     },
     "execution_count": 54,
     "metadata": {},
     "output_type": "execute_result"
    }
   ],
   "source": [
    "# predict probability according to a weight matrix\n",
    "function predict(review, nb)\n",
    "# count the words according to review\n",
    "    tmp, scores = [], zeros(length(nb.cnt))\n",
    "    for word in review\n",
    "        length(tmp) >= nb.ngram && deleteat!(tmp, 1)\n",
    "        push!(tmp, word)\n",
    "        for j in reverse(1:length(tmp))\n",
    "            val = join(tmp[j:length(tmp)], \"-\")\n",
    "            scores += [log((get(nb.cnt[i], val, 0) + nb.eps)) for i in 1:length(nb.cnt)]\n",
    "        end\n",
    "    end\n",
    "    scores += log.(nb.prior)\n",
    "    return argmax(scores)\n",
    "end"
   ]
  },
  {
   "cell_type": "code",
   "execution_count": 11,
   "metadata": {},
   "outputs": [
    {
     "data": {
      "text/plain": [
       "accuracy (generic function with 1 method)"
      ]
     },
     "execution_count": 11,
     "metadata": {},
     "output_type": "execute_result"
    }
   ],
   "source": [
    "function accuracy(dtst, nb)\n",
    "    cnt = 0\n",
    "    for re in dtst\n",
    "        p = predict(re[2], nb)\n",
    "        cnt += (p == re[1])\n",
    "    end\n",
    "    return cnt/length(dtst)\n",
    "end"
   ]
  },
  {
   "cell_type": "markdown",
   "metadata": {},
   "source": [
    "# Config"
   ]
  },
  {
   "cell_type": "code",
   "execution_count": 12,
   "metadata": {},
   "outputs": [],
   "source": [
    "train_data_path = \"aclImdb/test\"\n",
    "test_data_path = \"aclImdb/train\"\n",
    "UNK_THRESHOLD = 10\n",
    "_stopwords = vcat(stopwords(Languages.English()), prepositions(Languages.English()), pronouns(Languages.English()), articles(Languages.English()))\n",
    "puncs = [\".\", \",\", \"&\", \"--\", \"\"]\n",
    "n_gram = 4\n",
    "nothing"
   ]
  },
  {
   "cell_type": "markdown",
   "metadata": {},
   "source": [
    "# Prediction"
   ]
  },
  {
   "cell_type": "code",
   "execution_count": 13,
   "metadata": {
    "jupyter": {
     "outputs_hidden": true
    }
   },
   "outputs": [],
   "source": [
    "dtrn = vcat(load(joinpath(train_data_path, \"pos\")), load(joinpath(train_data_path, \"neg\")))\n",
    "nothing"
   ]
  },
  {
   "cell_type": "code",
   "execution_count": 14,
   "metadata": {
    "jupyter": {
     "outputs_hidden": true
    }
   },
   "outputs": [],
   "source": [
    "dtst = vcat(load(joinpath(test_data_path, \"pos\")), load(joinpath(test_data_path, \"neg\")))\n",
    "nothing"
   ]
  },
  {
   "cell_type": "code",
   "execution_count": 15,
   "metadata": {
    "jupyter": {
     "outputs_hidden": true
    }
   },
   "outputs": [],
   "source": [
    "clean_words!(vcat(dtrn, dtst))"
   ]
  },
  {
   "cell_type": "code",
   "execution_count": 17,
   "metadata": {
    "jupyter": {
     "outputs_hidden": true
    }
   },
   "outputs": [],
   "source": [
    "convert_to_UNK!(dtrn)"
   ]
  },
  {
   "cell_type": "code",
   "execution_count": 18,
   "metadata": {
    "jupyter": {
     "outputs_hidden": true
    }
   },
   "outputs": [],
   "source": [
    "# keep a copy of data\n",
    "cp_dtrn, cp_dtst = deepcopy.([dtrn, dtst])\n",
    "nothing"
   ]
  },
  {
   "cell_type": "code",
   "execution_count": 19,
   "metadata": {
    "collapsed": true
   },
   "outputs": [
    {
     "data": {
      "text/plain": [
       "2-element Array{Array{Any,1},1}:\n",
       " [Any[2, [\"movie\", \"night\", \"UNK\", \"friends\", \"mine\", \"ill\", \"admit\", \"reluctant\", \"ashton\", \"kutcher\"  …  \"grown\", \"well\", \"trying\", \"desperately\", \"crying\", \"this\", \"movie\", \"great\", \"suggest\", \"judge\"]], Any[2, [\"actor\", \"director\", \"bill\", \"paxton\", \"follows\", \"promising\", \"debut\", \"UNK\", \"frailty\", \"family\"  …  \"it\", \"despite\", \"formulaic\", \"nature\", \"nice\", \"easy\", \"film\", \"root\", \"deserves\", \"audience\"]], Any[2, [\"as\", \"UNK\", \"UNK\", \"knowledge\", \"sports\", \"history\", \"pleased\", \"disneys\", \"sensitivity\", \"issues\"  …  \"viewer\", \"disney\", \"the\", \"ending\", \"miracle\", \"disney\", \"creation\", \"human\", \"history\", \"written\"]], Any[2, [\"film\", \"sneak\", \"preview\", \"delightful\", \"the\", \"cinematography\", \"unusually\", \"creative\", \"acting\", \"good\"  …  \"dime\", \"dozen\", \"stands\", \"out\", \"br\", \"br\", \"this\", \"id\", \"recommend\", \"anyone\"]], Any[2, [\"bill\", \"paxton\", \"true\", \"story\", \"\", \"us\", \"golf\", \"film\", \"UNK\", \"game\"  …  \"grips\", \"-\", \"final\", \"scene\", \"affectionate\", \"nod\", \"casablanca\", \"pleasures\", \"fill\", \"movie\"]], Any[2, [\"film\", \"september\", \"st\", \"\", \"UNK\", \"judges\", \"UNK\", \"film\", \"festival\", \"screens\"  …  \"truly\", \"moving\", \"pictures\", \"web\", \"site\", \"listing\", \"past\", \"winners\", \"\", \"years\"]], Any[2, [\"maybe\", \"im\", \"reading\", \"much\", \"wonder\", \"hand\", \"UNK\", \"developing\", \"film\", \"mean\"  …  \"makes\", \"viewer\", \"feel\", \"UNK\", \"life\", \"merely\", \"play\", \"told\", \"difficult\", \"parts\"]], Any[2, [\"film\", \"qualities\", \"the\", \"cinematography\", \"exposing\", \"stage\", \"aspect\", \"set\", \"story\", \"the\"  …  \"beatles\", \"crap\", \"etc\", \"whatever\", \"top\", \"ten\", \"twenty\", \"television\", \"check\", \"out\"]], Any[2, [\"this\", \"movie\", \"amazing\", \"real\", \"people\", \"portray\", \"real\", \"life\", \"experience\", \"job\"  …  \"boring\", \"real\", \"documentary\", \"overall\", \"movie\", \"UNK\", \"deserved\", \"oscar\", \"movie\", \"dad\"]], Any[2, [\"quitting\", \"exiting\", \"UNK\", \"identity\", \"drug\", \"withdrawal\", \"as\", \"rural\", \"guy\", \"coming\"  …  \"actor\", \"bound\", \"art\", \"life\", \"like\", \"UNK\", \"gained\", \"success\", \"loss\", \"identity\"]]  …  Any[1, [\"as\", \"read\", \"script\", \"UNK\", \"capote\", \"trim\", \"having\", \"seen\", \"ppv\", \"tell\"  …  \"hoffman\", \"whines\", \"tortured\", \"endless\", \"appeals\", \"shotgun\", \"favor\", \"blow\", \"brains\", \"out\"]], Any[1, [\"in\", \"film\", \"invited\", \"observe\", \"descent\", \"moral\", \"emotional\", \"funk\", \"likable\", \"start\"  …  \"emotional\", \"effect\", \"UNK\", \"cooper\", \"warm\", \"yearning\", \"them\", \"dreary\", \"beyond\", \"belief\"]], Any[1, [\"people\", \"movie\", \"hoffman\", \"delivering\", \"performance\", \"suspended\", \"disbelief\", \"UNK\", \"boredom\", \"walking\"  …  \"br\", \"but\", \"goal\", \"UNK\", \"film\", \"interpretations\", \"me\", \"two-hour\", \"movie\", \"five\"]], Any[1, [\"this\", \"dreary\", \"UNK\", \"self-important\", \"bore\", \"when\", \"suddenly\", \"film\", \"life\", \"hanging\"  …  \"UNK\", \"evidence\", \"genre\", \"pic\", \"truth\", \"dozen\", \"piles\", \"UNK\", \"crap\", \"this\"]], Any[1, [\"awful\", \"awful\", \"awful\", \"times\", \"hundred\", \"begin\", \"describe\", \"crappy\", \"biggest\", \"loser\"  …  \"videotape\", \"UNK\", \"sell\", \"major\", \"television\", \"corporation\", \"if\", \"passes\", \"television\", \"UNK\"]], Any[1, [\"occasionally\", \"kids\", \"watch\", \"garbage\", \"understand\", \"pathetic\", \"shows\", \"contestants\", \"are\", \"they\"  …  \"br\", \"the\", \"biggest\", \"loser\", \"appropriate\", \"title\", \"UNK\", \"br\", \"absolute\", \"trash\"]], Any[1, [\"when\", \"anymore\", \"pretty\", \"reality\", \"tv\", \"people\", \"fools\", \"whatever\", \"reason\", \"fat\"  …  \"maybe\", \"makes\", \"feel\", \"else\", \"looking\", \"jerk\", \"wish\", \"intelligent\", \"insult\", \"intelligence\"]], Any[1, [\"the\", \"basic\", \"genre\", \"thriller\", \"intercut\", \"uncomfortable\", \"UNK\", \"fellowes\", \"tried\", \"lot\"  …  \"wilkinson\", \"welcome\", \"foil\", \"UNK\", \"br\", \"im\", \"disappointed\", \"bad\", \"better\", \"\"]], Any[1, [\"four\", \"intrigued\", \"film\", \"-\", \"firstly\", \"stars\", \"carly\", \"pope\", \"of\", \"popular\"  …  \"owen\", \"film\", \"good\", \"so\", \"moral\", \"story\", \"UNK\", \"watch\", \"unless\", \"to\"]], Any[1, [\"david\", \"UNK\", \"comments\", \"nearby\", \"exceptionally\", \"written\", \"informative\", \"feel\", \"darling\", \"lili\"  …  \"pic\", \"the\", \"godfather\", \"ready\", \"recover\", \"\", \"million\", \"UNK\", \"m\", \"incredible\"]]]\n",
       " [Any[2, [\"bromwell\", \"high\", \"cartoon\", \"comedy\", \"it\", \"ran\", \"time\", \"programs\", \"school\", \"life\"  …  \"high\", \"expect\", \"adults\", \"age\", \"bromwell\", \"high\", \"fetched\", \"what\", \"pity\", \"isnt\"]], Any[2, [\"homelessness\", \"or\", \"houselessness\", \"george\", \"carlin\", \"stated\", \"issue\", \"plan\", \"help\", \"street\"  …  \"using\", \"monopoly\", \"moneybr\", \"br\", \"or\", \"maybe\", \"film\", \"inspire\", \"help\", \"others\"]], Any[2, [\"brilliant\", \"over-acting\", \"lesley\", \"ann\", \"warren\", \"best\", \"dramatic\", \"hobo\", \"lady\", \"seen\"  …  \"scene\", \"diggers\", \"fighting\", \"one\", \"bleeds\", \"this\", \"movie\", \"time\", \"which\", \"often\"]], Any[2, [\"this\", \"easily\", \"underrated\", \"film\", \"inn\", \"brooks\", \"cannon\", \"sure\", \"flawed\", \"it\"  …  \"brooks\", \"cast\", \"else\", \"lead\", \"i\", \"love\", \"mel\", \"director\", \"writer\", \"lead\"]], Any[2, [\"this\", \"typical\", \"mel\", \"brooks\", \"film\", \"it\", \"slapstick\", \"movies\", \"actually\", \"plot\"  …  \"directly\", \"audience\", \"again\", \"warren\", \"actor\", \"movie\", \"fume\", \"sailor\", \"played\", \"well\"]], Any[2, [\"this\", \"comedic\", \"robin\", \"williams\", \"quirkyinsane\", \"robin\", \"williams\", \"recent\", \"thriller\", \"fame\"  …  \"farebr\", \"br\", \"it\", \"rates\", \"\", \"frombr\", \"br\", \"the\", \"fiend\", \"\"]], Any[2, [\"yes\", \"art\", \"successfully\", \"slow\", \"paced\", \"thrillerbr\", \"br\", \"the\", \"story\", \"unfolds\"  …  \"nice\", \"\", \"time\", \"watch\", \"looking\", \"lay\", \"hear\", \"thrilling\", \"short\", \"story\"]], Any[2, [\"in\", \"critically\", \"acclaimed\", \"psychological\", \"thriller\", \"based\", \"true\", \"events\", \"gabriel\", \"robin\"  …  \"stettner\", \"\", \"robin\", \"williams\", \"toni\", \"collette\", \"sandra\", \"oh\", \"rory\", \"culkin\"]], Any[2, [\"the\", \"night\", \"listener\", \"\", \"\", \"robin\", \"williams\", \"toni\", \"collette\", \"bobby\"  …  \"hoodwink\", \"mystery\", \"stettner\", \"pays\", \"listen\", \"inner\", \"voice\", \"careful\", \"hope\", \"for\"]], Any[2, [\"you\", \"know\", \"robin\", \"williams\", \"god\", \"bless\", \"him\", \"constantly\", \"shooting\", \"foot\"  …  \"recommend\", \"be\", \"prepared\", \"unsettled\", \"though\", \"movie\", \"leaves\", \"strange\", \"feeling\", \"end\"]]  …  Any[1, [\"yeti\", \"curse\", \"snow\", \"demon\", \"starts\", \"aboard\", \"plane\", \"american\", \"school\", \"teens\"  …  \"bit\", \"horror\", \"themed\", \"fun\", \"bad\", \"entertaining\", \"moments\", \"somewhat\", \"watchable\", \"good\"]], Any[1, [\"hmmm\", \"sports\", \"team\", \"plane\", \"crash\", \"stranded\", \"snowy\", \"mountain\", \"faced\", \"difficult\"  …  \"flesh\", \"brushed\", \"teeth\", \"daysbr\", \"br\", \"the\", \"end\", \"however\", \"quote\", \"lame\"]], Any[1, [\"piece\", \"garbage\", \"amc\", \"night\", \"wonder\", \"considered\", \"american\", \"movie\", \"classic\", \"it\"  …  \"badly\", \"jack\", \"lemmon\", \"james\", \"stewart\", \"rest\", \"cast\", \"cash\", \"consider\", \"movie\"]], Any[1, [\"although\", \"production\", \"jerry\", \"jamesons\", \"direction\", \"definite\", \"improvements\", \"airport\", \"\", \"airport\"  …  \"personality\", \"conflicts\", \"excruciating\", \"military\", \"detail\", \"eventually\", \"tear\", \"patience\", \"\", \"\"]], Any[1, [\"capt\", \"gallagher\", \"lemmon\", \"flight\", \"attendant\", \"eve\", \"clayton\", \"vaccaro\", \"supposedly\", \"hot\"  …  \"that\", \"buck\", \"rogers\", \"gil\", \"gerard\", \"dynastys\", \"pamela\", \"bellwoodbr\", \"br\", \"\"]], Any[1, [\"towards\", \"movie\", \"technical\", \"classroom\", \"watching\", \"navy\", \"performs\", \"rescues\", \"sea\", \"liked\"  …  \"movie\", \"canned\", \"screening\", \"lee\", \"grant\", \"fun\", \"watch\", \"psychotic\", \"person\", \"decked\"]], Any[1, [\"this\", \"movie\", \"enemies\", \"content\", \"watch\", \"time\", \"bloody\", \"true\", \"watch\", \"bad\"  …  \"thats\", \"either\", \"instead\", \"watch\", \"decent\", \"flick\", \"stuck\", \"airplanes\", \"flight\", \"phoenix\"]], Any[1, [\"descent\", \"night\", \"stockholm\", \"film\", \"festival\", \"huge\", \"disappointment\", \"disappointment\", \"storyline\", \"potentially\"  …  \"lighting\", \"heavy\", \"bass\", \"music\", \"lasciviousdecadent\", \"atmosphere\", \"no\", \"movie\", \"too\", \"bad\"]], Any[1, [\"some\", \"films\", \"pick\", \"pound\", \"-\", \"rd\", \"century\", \"films\", \"released\", \"dozens\"  …  \"hold\", \"camera\", \"common\", \"sense\", \"prevails\", \"films\", \"languish\", \"cupboards\", \"somewhere\", \"avoid\"]], Any[1, [\"this\", \"dumbest\", \"films\", \"ive\", \"seen\", \"it\", \"rips\", \"nearly\", \"type\", \"thriller\"  …  \"film\", \"download\", \"it\", \"wasted\", \"time\", \"money\", \"dont\", \"waste\", \"time\", \"painful\"]]]"
      ]
     },
     "execution_count": 19,
     "metadata": {},
     "output_type": "execute_result"
    }
   ],
   "source": [
    "# run for restoring the data\n",
    "dtrn, dtst = deepcopy.([cp_dtrn, cp_dtst])"
   ]
  },
  {
   "cell_type": "code",
   "execution_count": 20,
   "metadata": {
    "jupyter": {
     "outputs_hidden": true
    }
   },
   "outputs": [],
   "source": [
    "# convert words to integers\n",
    "wdict = Dict()\n",
    "w2i!(\"UNK\")\n",
    "for review in dtrn\n",
    "    review[2] = w2i!.(review[2])\n",
    "end"
   ]
  },
  {
   "cell_type": "code",
   "execution_count": 21,
   "metadata": {},
   "outputs": [],
   "source": [
    "for review in dtst\n",
    "    review[2] = w2i.(review[2])\n",
    "end"
   ]
  },
  {
   "cell_type": "code",
   "execution_count": 22,
   "metadata": {},
   "outputs": [
    {
     "name": "stdout",
     "output_type": "stream",
     "text": [
      "[\"UNK\", \"high\", \"cartoon\", \"comedy\", \"it\", \"ran\", \"time\", \"programs\", \"school\", \"life\", \"teachers\", \"my\", \"\", \"teaching\", \"profession\", \"lead\", \"believe\", \"UNK\", \"highs\", \"satire\", \"closer\", \"reality\", \"teachers\", \"the\", \"UNK\", \"survive\", \"financially\", \"insightful\", \"students\", \"pathetic\", \"teachers\", \"UNK\", \"UNK\", \"situation\", \"remind\", \"schools\", \"students\", \"when\", \"episode\", \"student\", \"repeatedly\", \"tried\", \"burn\", \"school\", \"immediately\", \"recalled\", \"\", \"\", \"high\", \"a\", \"classic\", \"line\", \"inspector\", \"im\", \"sack\", \"teachers\", \"student\", \"welcome\", \"UNK\", \"high\", \"expect\", \"adults\", \"age\", \"UNK\", \"high\", \"fetched\", \"what\", \"pity\", \"isnt\"]\n",
      "[\"bromwell\", \"high\", \"cartoon\", \"comedy\", \"it\", \"ran\", \"time\", \"programs\", \"school\", \"life\", \"teachers\", \"my\", \"\", \"teaching\", \"profession\", \"lead\", \"believe\", \"bromwell\", \"highs\", \"satire\", \"closer\", \"reality\", \"teachers\", \"the\", \"scramble\", \"survive\", \"financially\", \"insightful\", \"students\", \"pathetic\", \"teachers\", \"pomp\", \"pettiness\", \"situation\", \"remind\", \"schools\", \"students\", \"when\", \"episode\", \"student\", \"repeatedly\", \"tried\", \"burn\", \"school\", \"immediately\", \"recalled\", \"\", \"\", \"high\", \"a\", \"classic\", \"line\", \"inspector\", \"im\", \"sack\", \"teachers\", \"student\", \"welcome\", \"bromwell\", \"high\", \"expect\", \"adults\", \"age\", \"bromwell\", \"high\", \"fetched\", \"what\", \"pity\", \"isnt\"]\n"
     ]
    }
   ],
   "source": [
    "# test word mapping\n",
    "words = Array{String}(undef, length(wdict))\n",
    "for (str, ind) in wdict; words[ind]=str;end\n",
    "println.([words[first(dtst)[2]], first(cp_dtst)[2]])\n",
    "nothing"
   ]
  },
  {
   "cell_type": "code",
   "execution_count": 55,
   "metadata": {},
   "outputs": [
    {
     "data": {
      "text/plain": [
       "2-element Array{Int64,1}:\n",
       " 12500\n",
       " 12500"
      ]
     },
     "execution_count": 55,
     "metadata": {},
     "output_type": "execute_result"
    }
   ],
   "source": [
    "# find class priors\n",
    "prior = [sum([re[1] == i for re in dtrn]) for i in 1:2]"
   ]
  },
  {
   "cell_type": "code",
   "execution_count": 24,
   "metadata": {},
   "outputs": [],
   "source": [
    "cnt = cnt_n_grams(dtrn, n_gram)\n",
    "nothing"
   ]
  },
  {
   "cell_type": "code",
   "execution_count": 25,
   "metadata": {},
   "outputs": [
    {
     "data": {
      "text/plain": [
       "37"
      ]
     },
     "execution_count": 25,
     "metadata": {},
     "output_type": "execute_result"
    }
   ],
   "source": [
    "# test\n",
    "cnt[1][join([w2i(\"hate\"), w2i(\"movie\")], \"-\")]"
   ]
  },
  {
   "cell_type": "code",
   "execution_count": 42,
   "metadata": {},
   "outputs": [],
   "source": [
    "model = NaiveBayes(prior, cnt, n_gram, 10)\n",
    "nothing"
   ]
  },
  {
   "cell_type": "code",
   "execution_count": 27,
   "metadata": {
    "scrolled": true
   },
   "outputs": [],
   "source": [
    "shuffle!.([dtst, dtrn])\n",
    "nothing"
   ]
  },
  {
   "cell_type": "code",
   "execution_count": 37,
   "metadata": {},
   "outputs": [
    {
     "data": {
      "text/plain": [
       "0.99644"
      ]
     },
     "execution_count": 37,
     "metadata": {},
     "output_type": "execute_result"
    }
   ],
   "source": [
    "trn_ac = accuracy(dtrn, model)"
   ]
  },
  {
   "cell_type": "code",
   "execution_count": 36,
   "metadata": {},
   "outputs": [
    {
     "data": {
      "text/plain": [
       "0.84436"
      ]
     },
     "execution_count": 36,
     "metadata": {},
     "output_type": "execute_result"
    }
   ],
   "source": [
    "tst_ac = accuracy(dtst, model)"
   ]
  },
  {
   "cell_type": "code",
   "execution_count": 38,
   "metadata": {},
   "outputs": [
    {
     "name": "stdout",
     "output_type": "stream",
     "text": [
      "Acuraccy on test set: 0.84436\n"
     ]
    }
   ],
   "source": [
    "println(\"Acuraccy on test set: $tst_ac\")"
   ]
  },
  {
   "cell_type": "code",
   "execution_count": 39,
   "metadata": {},
   "outputs": [
    {
     "name": "stdout",
     "output_type": "stream",
     "text": [
      "Acuraccy on train set: 0.99644\n"
     ]
    }
   ],
   "source": [
    "println(\"Acuraccy on train set: $trn_ac\")"
   ]
  },
  {
   "cell_type": "code",
   "execution_count": null,
   "metadata": {},
   "outputs": [],
   "source": []
  }
 ],
 "metadata": {
  "kernelspec": {
   "display_name": "Julia 1.5.3",
   "language": "julia",
   "name": "julia-1.5"
  },
  "language_info": {
   "file_extension": ".jl",
   "mimetype": "application/julia",
   "name": "julia",
   "version": "1.5.3"
  }
 },
 "nbformat": 4,
 "nbformat_minor": 4
}
